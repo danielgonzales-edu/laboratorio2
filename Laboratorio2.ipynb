{
 "cells": [
  {
   "attachments": {},
   "cell_type": "markdown",
   "id": "0f3e39a8",
   "metadata": {},
   "source": [
    "# HOJA DE TRABAJO #2 - SINTAXIS Y ESTRUCTURA DE DATOS"
   ]
  },
  {
   "attachments": {},
   "cell_type": "markdown",
   "id": "54a240c3",
   "metadata": {},
   "source": [
    "### Ejercicio 1"
   ]
  },
  {
   "cell_type": "code",
   "execution_count": 4,
   "id": "71456562",
   "metadata": {},
   "outputs": [
    {
     "name": "stdout",
     "output_type": "stream",
     "text": [
      "Horas: 1, Minutos: 0, Segundos: 0\n"
     ]
    }
   ],
   "source": [
    "segundos = int(input('Ingrese un número de segundos'))\n",
    "\n",
    "if segundos < 0:\n",
    "    raise Exception(\"La cantidad de segundos debe ser mayor o igual a 0\")\n",
    "else:\n",
    "    horas = segundos//3600\n",
    "    segundos = segundos - horas*3600\n",
    "    minutos = segundos//60\n",
    "    segundos = segundos - minutos*60\n",
    "\n",
    "print(f\"Horas: {horas}, Minutos: {minutos}, Segundos: {segundos}\")\n",
    "\n"
   ]
  },
  {
   "attachments": {},
   "cell_type": "markdown",
   "id": "fc7f14d7",
   "metadata": {},
   "source": [
    "### Ejercicio 2"
   ]
  },
  {
   "cell_type": "code",
   "execution_count": 7,
   "id": "f75bcc7d",
   "metadata": {},
   "outputs": [
    {
     "name": "stdout",
     "output_type": "stream",
     "text": [
      "El número ingresado no es válido\n"
     ]
    }
   ],
   "source": [
    "try:\n",
    "    numero = int(input('Ingrese un número entre 1 y 20'))\n",
    "    if (numero >= 1) and (numero <= 20):\n",
    "        caracter = (input('Ingrese un caracter'))\n",
    "        for i in range(1,numero+1):\n",
    "            print(caracter*i+\"    \"+caracter*(numero-i+1)+\"    \"+caracter*(numero-i+2)+\"    \"+caracter*(i+2))\n",
    "    else:\n",
    "        print('El número debe ser entre 1 y 20')\n",
    "except:\n",
    "    print('El número ingresado no es válido')"
   ]
  },
  {
   "attachments": {},
   "cell_type": "markdown",
   "id": "28f73df3",
   "metadata": {},
   "source": [
    "### Ejercicio 3"
   ]
  },
  {
   "cell_type": "code",
   "execution_count": 17,
   "id": "e02b0e3a",
   "metadata": {},
   "outputs": [
    {
     "name": "stdout",
     "output_type": "stream",
     "text": [
      "La edad es: 29 años, 6 meses y 2 días.\n"
     ]
    }
   ],
   "source": [
    "from datetime import date\n",
    "try:\n",
    "    y_nac = int(input('Ingrese el año de nacimiento'))\n",
    "    if (y_nac >= 0):\n",
    "        m_nac = int(input('Ingrese el mes de su nacimiento (1-12)'))\n",
    "        if (m_nac >= 1) and (m_nac <= 12):\n",
    "            d_nac = int(input('Ingrese el día de su nacimiento (1-31)'))\n",
    "            if (d_nac >= 1) and (d_nac <= 31):\n",
    "                edad = date.today() - date(y_nac, m_nac, d_nac)\n",
    "                edad_anios = edad.days // 365\n",
    "                edad_meses = int((edad.days%365) / 30)\n",
    "                edad_dias = int((edad.days%365) % 30)\n",
    "                print(f\"La edad es: {edad_anios} años, {edad_meses} meses y {edad_dias} días.\")\n",
    "            else:\n",
    "                print('Debe ingresar un día válido')\n",
    "        else:\n",
    "                print('Debe ingresar un mes válido')\n",
    "    else:\n",
    "                print('Debe ingresar un año válido')\n",
    "except ValueError as error:\n",
    "      print(error)\n"
   ]
  },
  {
   "attachments": {},
   "cell_type": "markdown",
   "id": "7d637ec7",
   "metadata": {},
   "source": [
    "### Ejercicio 4"
   ]
  },
  {
   "cell_type": "code",
   "execution_count": 19,
   "id": "e5e1d147",
   "metadata": {},
   "outputs": [
    {
     "data": {
      "text/plain": [
       "'1020570'"
      ]
     },
     "execution_count": 19,
     "metadata": {},
     "output_type": "execute_result"
    }
   ],
   "source": [
    "tupla = (10, 20, 5, 70)\n",
    "\n",
    "def transformarTupla(tupla):\n",
    "    tupla_transformada = ''.join([str(valor) for valor in tupla])\n",
    "    return tupla_transformada\n",
    "\n",
    "transformarTupla(tupla)"
   ]
  },
  {
   "attachments": {},
   "cell_type": "markdown",
   "id": "72351c98",
   "metadata": {},
   "source": [
    "### Ejercicio 5"
   ]
  },
  {
   "cell_type": "code",
   "execution_count": 20,
   "id": "9bb05e9a",
   "metadata": {},
   "outputs": [
    {
     "data": {
      "text/plain": [
       "['X', ('a', 'b'), ('a', 'b', 'c'), 'd']"
      ]
     },
     "execution_count": 20,
     "metadata": {},
     "output_type": "execute_result"
    }
   ],
   "source": [
    "tupla = ((),() , 'X', ('a', 'b'), ('a', 'b', 'c'), ('d'))\n",
    "\n",
    "def limpiarTupla(tupla):\n",
    "    tupla_limpia = [valor for valor in tupla if len(valor) > 0]\n",
    "    return tupla_limpia\n",
    "\n",
    "limpiarTupla(tupla)\n"
   ]
  },
  {
   "attachments": {},
   "cell_type": "markdown",
   "id": "2bb2e4fc",
   "metadata": {},
   "source": [
    "### Ejercicio 6 "
   ]
  },
  {
   "cell_type": "code",
   "execution_count": 21,
   "id": "c2fbad9a",
   "metadata": {},
   "outputs": [
    {
     "data": {
      "text/plain": [
       "[10.5, 44.0, 58.0]"
      ]
     },
     "execution_count": 21,
     "metadata": {},
     "output_type": "execute_result"
    }
   ],
   "source": [
    "import numpy as np\n",
    "\n",
    "arreglo = ((10, 10, 10, 12), (30, 45, 56, 45), (81, 80, 39, 32))\n",
    "\n",
    "def promedioTuplas(arreglo):\n",
    "    try:\n",
    "        if(type(arreglo) != tuple):\n",
    "            print('Debe ingresar una tupla de tuplas')\n",
    "        else:\n",
    "            promedio_tupla = []\n",
    "            for i, val in enumerate (arreglo):\n",
    "                promedio_tupla.append(np.mean(arreglo[i]))\n",
    "    except ValueError as error:\n",
    "        print(error)\n",
    "    return promedio_tupla\n",
    "\n",
    "\n",
    "promedioTuplas(arreglo)\n"
   ]
  },
  {
   "attachments": {},
   "cell_type": "markdown",
   "id": "9685bd46",
   "metadata": {},
   "source": [
    "### Ejercicio 7"
   ]
  },
  {
   "cell_type": "code",
   "execution_count": 39,
   "id": "c226cb4a",
   "metadata": {},
   "outputs": [
    {
     "name": "stdout",
     "output_type": "stream",
     "text": [
      "Factura ha sido añadida {'1111': 350.5}\n",
      "Total pendiente de cobro: 350.5\n",
      "Total cobrado: 0\n",
      "Debe ingresar un valor válidos\n",
      "Factura ha sido añadida {'1111': 350.5, '1122': 125.25}\n",
      "Total pendiente de cobro: 475.75\n",
      "Total cobrado: 0\n",
      "Factura ha sido añadida {'1111': 350.5, '1122': 125.25, '5555': 50.6}\n",
      "Total pendiente de cobro: 526.35\n",
      "Total cobrado: 0\n",
      "Factura pagada\n",
      "Total pendiente de cobro: 475.75\n",
      "Total cobrado: 50.6\n"
     ]
    }
   ],
   "source": [
    "\n",
    "facturas = {}\n",
    "total_cobrado = 0\n",
    "total_pendiente = 0\n",
    "\n",
    "while True:\n",
    "    opcion = int(input(\"Ingrese la opción que desea\\n1. Añadir nueva factura.\\n2. Pagar factura existente.\\n3. Terminar programa.\"))\n",
    "    if (opcion==1):\n",
    "        numero = input(\"Ingrese el número de factura (4 dígitos): \")\n",
    "        if (len(numero) == 4 and numero.isdigit()):\n",
    "            costo = float(input(\"Ingrese el costo de la factura: \"))\n",
    "            costo = round(costo, 2)\n",
    "            if (type(costo) == float):\n",
    "                facturas[numero] = costo\n",
    "                total_pendiente = total_pendiente + costo\n",
    "                print('Factura ha sido añadida', facturas)\n",
    "                print(f'Total pendiente de cobro: {total_pendiente}')\n",
    "                print(f'Total cobrado: {total_cobrado}')\n",
    "            else:\n",
    "                print('Debe ingresar un valor válido')\n",
    "        else:\n",
    "            print('Debe ingresar un valor válidos')\n",
    "    elif (opcion == 2):\n",
    "        numero = input('Ingrese el número de factura que desea pagar')\n",
    "        if (len(numero) == 4 and numero.isdigit()):\n",
    "            if numero in facturas:\n",
    "                total_cobrado = total_cobrado + facturas[numero]\n",
    "                total_pendiente = total_pendiente - facturas[numero]\n",
    "                del facturas[numero]\n",
    "                print('Factura pagada')\n",
    "                print(f'Total pendiente de cobro: {total_pendiente}')\n",
    "                print(f'Total cobrado: {total_cobrado}')\n",
    "            else:\n",
    "                print('El número de factura no existe')\n",
    "        else:\n",
    "            print('Debe ingresar un valor válidos')\n",
    "    elif (opcion == 3):\n",
    "        print('Programa terminado')\n",
    "        print(facturas)\n",
    "        print(f'Total pendiente de cobro: {total_pendiente}')\n",
    "        print(f'Total cobrado: {total_cobrado}')\n",
    "        break\n",
    "    else:\n",
    "        print('Entrada no válida')\n"
   ]
  },
  {
   "attachments": {},
   "cell_type": "markdown",
   "id": "080238b1",
   "metadata": {},
   "source": [
    "### Ejercicio 8"
   ]
  },
  {
   "cell_type": "code",
   "execution_count": 68,
   "id": "0d19fa20",
   "metadata": {},
   "outputs": [],
   "source": [
    "def crearBaraja():\n",
    "    tipos = ['T', 'C', 'P', 'E']\n",
    "    numero = [\"{:02d}\".format(i) for i in range(1, 14)]\n",
    "    baraja = set()\n",
    "    for t in tipos:\n",
    "        for n in numero:\n",
    "            carta = t + n\n",
    "            baraja.add(carta)\n",
    "    return baraja"
   ]
  },
  {
   "cell_type": "code",
   "execution_count": 77,
   "id": "ab2a7407",
   "metadata": {},
   "outputs": [
    {
     "name": "stdout",
     "output_type": "stream",
     "text": [
      "52\n"
     ]
    },
    {
     "data": {
      "text/plain": [
       "{'C01',\n",
       " 'C02',\n",
       " 'C03',\n",
       " 'C04',\n",
       " 'C05',\n",
       " 'C06',\n",
       " 'C07',\n",
       " 'C08',\n",
       " 'C09',\n",
       " 'C10',\n",
       " 'C11',\n",
       " 'C12',\n",
       " 'C13',\n",
       " 'E01',\n",
       " 'E02',\n",
       " 'E03',\n",
       " 'E04',\n",
       " 'E05',\n",
       " 'E06',\n",
       " 'E07',\n",
       " 'E08',\n",
       " 'E09',\n",
       " 'E10',\n",
       " 'E11',\n",
       " 'E12',\n",
       " 'E13',\n",
       " 'P01',\n",
       " 'P02',\n",
       " 'P03',\n",
       " 'P04',\n",
       " 'P05',\n",
       " 'P06',\n",
       " 'P07',\n",
       " 'P08',\n",
       " 'P09',\n",
       " 'P10',\n",
       " 'P11',\n",
       " 'P12',\n",
       " 'P13',\n",
       " 'T01',\n",
       " 'T02',\n",
       " 'T03',\n",
       " 'T04',\n",
       " 'T05',\n",
       " 'T06',\n",
       " 'T07',\n",
       " 'T08',\n",
       " 'T09',\n",
       " 'T10',\n",
       " 'T11',\n",
       " 'T12',\n",
       " 'T13'}"
      ]
     },
     "execution_count": 77,
     "metadata": {},
     "output_type": "execute_result"
    }
   ],
   "source": [
    "baraja = crearBaraja()\n",
    "print(len(baraja))\n",
    "baraja"
   ]
  },
  {
   "cell_type": "code",
   "execution_count": 82,
   "id": "953d4079",
   "metadata": {},
   "outputs": [],
   "source": [
    "import random as rn\n",
    "def crearSetCartas(baraja, s1, s2):\n",
    "    set1 = set(rn.sample(baraja, s1))\n",
    "    cartas_disponibles = baraja - set1\n",
    "    set2 = set(rn.sample(cartas_disponibles, s2))\n",
    "    return set1, set2"
   ]
  },
  {
   "cell_type": "code",
   "execution_count": 95,
   "id": "77ff5f0a",
   "metadata": {},
   "outputs": [
    {
     "name": "stdout",
     "output_type": "stream",
     "text": [
      "{'C03', 'E07', 'E04', 'T10', 'T09', 'C04', 'C13', 'T05', 'E12', 'E03', 'E10', 'T06', 'C02', 'P02', 'P11', 'P03', 'T01', 'C06', 'P04', 'P12', 'E05', 'C09'}\n",
      "{'C10', 'T08', 'C07', 'P10', 'P07', 'E02', 'P05', 'P13', 'P08'}\n"
     ]
    },
    {
     "name": "stderr",
     "output_type": "stream",
     "text": [
      "C:\\Users\\DK\\AppData\\Local\\Temp\\ipykernel_2696\\2516674072.py:3: DeprecationWarning: Sampling from a set deprecated\n",
      "since Python 3.9 and will be removed in a subsequent version.\n",
      "  set1 = set(rn.sample(baraja, s1))\n",
      "C:\\Users\\DK\\AppData\\Local\\Temp\\ipykernel_2696\\2516674072.py:5: DeprecationWarning: Sampling from a set deprecated\n",
      "since Python 3.9 and will be removed in a subsequent version.\n",
      "  set2 = set(rn.sample(cartas_disponibles, s2))\n"
     ]
    }
   ],
   "source": [
    "import random as rn\n",
    "s1 = rn.randint(1,52)\n",
    "s2 = rn.randint(1,52-s1)\n",
    "set1, set2 = crearSetCartas(baraja, s1, s2)\n",
    "print(set1)\n",
    "print(set2)"
   ]
  },
  {
   "attachments": {},
   "cell_type": "markdown",
   "id": "44ef7d62",
   "metadata": {},
   "source": [
    "#### Intersección"
   ]
  },
  {
   "cell_type": "code",
   "execution_count": 96,
   "id": "39d0fd3b",
   "metadata": {},
   "outputs": [
    {
     "name": "stdout",
     "output_type": "stream",
     "text": [
      "Probabilidad de intersección: 0.0\n"
     ]
    }
   ],
   "source": [
    "interseccion = set1.intersection(set2)\n",
    "p_interseccion = len(interseccion)/len(baraja)\n",
    "print(f'Probabilidad de intersección: {p_interseccion}')"
   ]
  },
  {
   "attachments": {},
   "cell_type": "markdown",
   "id": "4ed36d4c",
   "metadata": {},
   "source": [
    "#### Unión"
   ]
  },
  {
   "cell_type": "code",
   "execution_count": 97,
   "id": "f447fb6a",
   "metadata": {},
   "outputs": [
    {
     "name": "stdout",
     "output_type": "stream",
     "text": [
      "Probabilidad de unión: 0.5961538461538461\n"
     ]
    }
   ],
   "source": [
    "union = set1.union(set2)\n",
    "p_union = len(union)/len(baraja)\n",
    "print(f'Probabilidad de unión: {p_union}')"
   ]
  },
  {
   "attachments": {},
   "cell_type": "markdown",
   "id": "63ac7c96",
   "metadata": {},
   "source": [
    "#### Demostración de regla del producto P(A ∩ B) = P(A) + P(B) - P(A ∪ B)"
   ]
  },
  {
   "cell_type": "code",
   "execution_count": 101,
   "id": "35c4aa8b",
   "metadata": {},
   "outputs": [
    {
     "name": "stdout",
     "output_type": "stream",
     "text": [
      "Probabilidad de intersección: 0.0\n",
      "Eventos independientes\n"
     ]
    }
   ],
   "source": [
    "demo_interseccion = (len(set1)/len(baraja)) + (len(set2)/len(baraja)) - p_union\n",
    "if(demo_interseccion > 0):\n",
    "    print(f'Probabilidad de intersección: {demo_interseccion}')\n",
    "else:\n",
    "    print(f'Probabilidad de intersección: {demo_interseccion}')\n",
    "    print('Eventos independientes')\n"
   ]
  },
  {
   "attachments": {},
   "cell_type": "markdown",
   "id": "632a7bed",
   "metadata": {},
   "source": [
    "#### Demostración de regla de la suma P(A ∪ B) = P(A) + P(B) - P(A ∩ B)"
   ]
  },
  {
   "cell_type": "code",
   "execution_count": 102,
   "id": "cd7d7ce8",
   "metadata": {},
   "outputs": [
    {
     "name": "stdout",
     "output_type": "stream",
     "text": [
      "Probabilidad de union: 0.5961538461538461\n"
     ]
    }
   ],
   "source": [
    "demo_union = (len(set1)/len(baraja)) + (len(set2)/len(baraja)) - p_interseccion\n",
    "print(f'Probabilidad de union: {demo_union}')"
   ]
  }
 ],
 "metadata": {
  "kernelspec": {
   "display_name": "Python 3 (ipykernel)",
   "language": "python",
   "name": "python3"
  },
  "language_info": {
   "codemirror_mode": {
    "name": "ipython",
    "version": 3
   },
   "file_extension": ".py",
   "mimetype": "text/x-python",
   "name": "python",
   "nbconvert_exporter": "python",
   "pygments_lexer": "ipython3",
   "version": "3.9.13"
  }
 },
 "nbformat": 4,
 "nbformat_minor": 5
}
